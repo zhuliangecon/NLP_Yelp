{
 "cells": [
  {
   "cell_type": "markdown",
   "id": "fbb9144d",
   "metadata": {},
   "source": [
    "## Data Resource: Yelp Open Dataset \n",
    "Download: https://www.yelp.com/dataset \n",
    "\n",
    "Presenting and/or publishing the research based on this dataset is permitted for acadamic purpose.\n",
    "\n",
    "Two datasets used here: yelp_academic_dataset_business.json and yelp_academic_dataset_tip_text.json\n",
    "\n",
    "## this notebook generates two processed datasets that will be used in Recommender\n"
   ]
  },
  {
   "cell_type": "markdown",
   "id": "f636cb15",
   "metadata": {},
   "source": [
    "# Data Collection and Preliminary Cleaning"
   ]
  },
  {
   "cell_type": "code",
   "execution_count": 1,
   "id": "5aa27052",
   "metadata": {},
   "outputs": [],
   "source": [
    "# Environment\n",
    "import json\n",
    "import pandas as pd"
   ]
  },
  {
   "cell_type": "markdown",
   "id": "e0575bea",
   "metadata": {},
   "source": [
    "## business dataset"
   ]
  },
  {
   "cell_type": "code",
   "execution_count": 2,
   "id": "e299eee5",
   "metadata": {},
   "outputs": [
    {
     "name": "stdout",
     "output_type": "stream",
     "text": [
      "(150346, 14)\n",
      "Index(['business_id', 'name', 'address', 'city', 'state', 'postal_code',\n",
      "       'latitude', 'longitude', 'stars', 'review_count', 'is_open',\n",
      "       'attributes', 'categories', 'hours'],\n",
      "      dtype='object')\n"
     ]
    }
   ],
   "source": [
    "# Read JSON objects line by line and store them in a list\n",
    "json_objects = []\n",
    "with open('yelp_dataset/yelp_academic_dataset_business.json', 'r') as file:\n",
    "    for line in file:\n",
    "        json_objects.append(json.loads(line))\n",
    "\n",
    "# Convert the list of JSON objects to a DataFrame\n",
    "business = pd.DataFrame(json_objects)\n",
    "print(business.shape)\n",
    "print(business.columns)"
   ]
  },
  {
   "cell_type": "code",
   "execution_count": 3,
   "id": "534b7621",
   "metadata": {},
   "outputs": [
    {
     "data": {
      "text/plain": [
       "(34987, 10)"
      ]
     },
     "execution_count": 3,
     "metadata": {},
     "output_type": "execute_result"
    }
   ],
   "source": [
    "# collect the useful varaibles\n",
    "selected_columns = ['business_id', 'name', 'address', 'city', 'state', 'postal_code','stars', 'is_open', 'review_count', 'categories']\n",
    "business = business[selected_columns]\n",
    "# drop NA records\n",
    "business.dropna(inplace=True)\n",
    "\n",
    "# drop is_open=0 records (closed business)\n",
    "business = business.loc[business['is_open'] != 0]\n",
    "\n",
    "# drop non-restaurant records\n",
    "business = business.loc[business['categories'].str.contains('Restaurants')]\n",
    "\n",
    "selected_columns = ['business_id', 'name', 'address', 'city', 'state', 'postal_code','stars', 'review_count']\n",
    "\n",
    "business.shape"
   ]
  },
  {
   "cell_type": "code",
   "execution_count": 4,
   "id": "ab1eeba9",
   "metadata": {},
   "outputs": [],
   "source": [
    "# save to tip_business.csv\n",
    "business.to_csv('tip_business.csv', index=False)"
   ]
  },
  {
   "cell_type": "markdown",
   "id": "2ef8cbac",
   "metadata": {},
   "source": [
    "## tip dataset"
   ]
  },
  {
   "cell_type": "code",
   "execution_count": 5,
   "id": "2ca5b80b",
   "metadata": {},
   "outputs": [
    {
     "data": {
      "text/html": [
       "<div>\n",
       "<style scoped>\n",
       "    .dataframe tbody tr th:only-of-type {\n",
       "        vertical-align: middle;\n",
       "    }\n",
       "\n",
       "    .dataframe tbody tr th {\n",
       "        vertical-align: top;\n",
       "    }\n",
       "\n",
       "    .dataframe thead th {\n",
       "        text-align: right;\n",
       "    }\n",
       "</style>\n",
       "<table border=\"1\" class=\"dataframe\">\n",
       "  <thead>\n",
       "    <tr style=\"text-align: right;\">\n",
       "      <th></th>\n",
       "      <th>user_id</th>\n",
       "      <th>business_id</th>\n",
       "      <th>text</th>\n",
       "      <th>date</th>\n",
       "      <th>compliment_count</th>\n",
       "    </tr>\n",
       "  </thead>\n",
       "  <tbody>\n",
       "    <tr>\n",
       "      <th>0</th>\n",
       "      <td>AGNUgVwnZUey3gcPCJ76iw</td>\n",
       "      <td>3uLgwr0qeCNMjKenHJwPGQ</td>\n",
       "      <td>Avengers time with the ladies.</td>\n",
       "      <td>2012-05-18 02:17:21</td>\n",
       "      <td>0</td>\n",
       "    </tr>\n",
       "  </tbody>\n",
       "</table>\n",
       "</div>"
      ],
      "text/plain": [
       "                  user_id             business_id  \\\n",
       "0  AGNUgVwnZUey3gcPCJ76iw  3uLgwr0qeCNMjKenHJwPGQ   \n",
       "\n",
       "                             text                 date  compliment_count  \n",
       "0  Avengers time with the ladies.  2012-05-18 02:17:21                 0  "
      ]
     },
     "execution_count": 5,
     "metadata": {},
     "output_type": "execute_result"
    }
   ],
   "source": [
    "# Read JSON objects line by line and store them in a list\n",
    "json_objects = []\n",
    "with open('yelp_dataset/yelp_academic_dataset_tip.json', 'r') as file:\n",
    "    for line in file:\n",
    "        json_objects.append(json.loads(line))\n",
    "\n",
    "# Convert the list of JSON objects to a DataFrame\n",
    "tip = pd.DataFrame(json_objects)\n",
    "tip.head(1)"
   ]
  },
  {
   "cell_type": "code",
   "execution_count": 6,
   "id": "7af76eb1",
   "metadata": {},
   "outputs": [],
   "source": [
    "# collect the useful varaibles\n",
    "selected_columns = ['business_id', 'text']\n",
    "tip = tip[selected_columns]\n",
    "tip = tip.astype({'business_id': 'str', 'text': 'str'})"
   ]
  },
  {
   "cell_type": "code",
   "execution_count": 7,
   "id": "913eabe6",
   "metadata": {
    "scrolled": true
   },
   "outputs": [
    {
     "data": {
      "text/plain": [
       "<bound method NDFrame.head of                    business_id  \\\n",
       "0       3uLgwr0qeCNMjKenHJwPGQ   \n",
       "1       QoezRbYQncpRqyrLH6Iqjg   \n",
       "4       _uN0OudeJ3Zl_tf6nxg5ww   \n",
       "6       kH-0iXqkL7b8UXNpguBMKg   \n",
       "7       jtri188kuhe_AuEOJ51U_A   \n",
       "...                        ...   \n",
       "908906  90pJu2O7fIEm_N31Fyue7A   \n",
       "908907  wQUBiBqlzC6cbdkX-GaBqQ   \n",
       "908912  hYnMeAO77RGyTtIzUSKYzQ   \n",
       "908913  s2eyoTuJrcP7I_XyjdhUHQ   \n",
       "908914  _cb1Vg1NIWry8UA0jyuXnQ   \n",
       "\n",
       "                                                     text  \n",
       "0                          Avengers time with the ladies.  \n",
       "1       They have lots of good deserts and tasty cuban...  \n",
       "4                  Appetizers.. platter special for lunch  \n",
       "6       Saturday, Dec 7th 2013, ride Patco's Silver Sl...  \n",
       "7       This is probably the best place in the cool Sp...  \n",
       "...                                                   ...  \n",
       "908906       Great food, cocktail, ambience, and service!  \n",
       "908907                             The food was delicious  \n",
       "908912                                Love their Cubans!!  \n",
       "908913                            Great pizza great price  \n",
       "908914                  Food is good value but a bit hot!  \n",
       "\n",
       "[657811 rows x 2 columns]>"
      ]
     },
     "execution_count": 7,
     "metadata": {},
     "output_type": "execute_result"
    }
   ],
   "source": [
    "# filter the data, only keep resturants with 10+ tips\n",
    "tip = tip.groupby('business_id').filter(lambda x: len(x) >= 10)\n",
    "tip.head"
   ]
  },
  {
   "cell_type": "markdown",
   "id": "783ceab6",
   "metadata": {},
   "source": [
    "# Text Preprocessing"
   ]
  },
  {
   "cell_type": "code",
   "execution_count": 8,
   "id": "17524a3c",
   "metadata": {},
   "outputs": [
    {
     "data": {
      "text/html": [
       "<div>\n",
       "<style scoped>\n",
       "    .dataframe tbody tr th:only-of-type {\n",
       "        vertical-align: middle;\n",
       "    }\n",
       "\n",
       "    .dataframe tbody tr th {\n",
       "        vertical-align: top;\n",
       "    }\n",
       "\n",
       "    .dataframe thead th {\n",
       "        text-align: right;\n",
       "    }\n",
       "</style>\n",
       "<table border=\"1\" class=\"dataframe\">\n",
       "  <thead>\n",
       "    <tr style=\"text-align: right;\">\n",
       "      <th></th>\n",
       "      <th>business_id</th>\n",
       "      <th>text</th>\n",
       "    </tr>\n",
       "  </thead>\n",
       "  <tbody>\n",
       "    <tr>\n",
       "      <th>0</th>\n",
       "      <td>3uLgwr0qeCNMjKenHJwPGQ</td>\n",
       "      <td>Avengers time with the ladies.</td>\n",
       "    </tr>\n",
       "  </tbody>\n",
       "</table>\n",
       "</div>"
      ],
      "text/plain": [
       "              business_id                            text\n",
       "0  3uLgwr0qeCNMjKenHJwPGQ  Avengers time with the ladies."
      ]
     },
     "execution_count": 8,
     "metadata": {},
     "output_type": "execute_result"
    }
   ],
   "source": [
    "# read dataset\n",
    "# tip = pd.read_csv('tip_0.csv')\n",
    "tip = tip.astype({'business_id': 'str', 'text': 'str'})\n",
    "tip.head(1)"
   ]
  },
  {
   "cell_type": "code",
   "execution_count": 9,
   "id": "b7686251",
   "metadata": {},
   "outputs": [
    {
     "data": {
      "text/plain": [
       "(657811, 2)"
      ]
     },
     "execution_count": 9,
     "metadata": {},
     "output_type": "execute_result"
    }
   ],
   "source": [
    "tip.shape"
   ]
  },
  {
   "cell_type": "code",
   "execution_count": 10,
   "id": "fd62e97e",
   "metadata": {},
   "outputs": [],
   "source": [
    "# delete non-English records\n",
    "import string\n",
    "\n",
    "english_tips = []\n",
    "\n",
    "for index, row in tip.iterrows():\n",
    "    # check if there is only ASCII strings\n",
    "    if row['text'].encode('ascii', 'ignore').decode('ascii') == row['text']:\n",
    "        english_tips.append(row)\n",
    "        \n",
    "# transform into dataframe\n",
    "tip = pd.DataFrame(english_tips, columns=tip.columns)"
   ]
  },
  {
   "cell_type": "code",
   "execution_count": 11,
   "id": "48b1ef38",
   "metadata": {},
   "outputs": [
    {
     "data": {
      "text/plain": [
       "(654119, 2)"
      ]
     },
     "execution_count": 11,
     "metadata": {},
     "output_type": "execute_result"
    }
   ],
   "source": [
    "tip.shape"
   ]
  },
  {
   "cell_type": "code",
   "execution_count": 12,
   "id": "e6a9fdff",
   "metadata": {},
   "outputs": [
    {
     "name": "stderr",
     "output_type": "stream",
     "text": [
      "[nltk_data] Downloading package stopwords to\n",
      "[nltk_data]     /Users/zhuliang/nltk_data...\n",
      "[nltk_data]   Package stopwords is already up-to-date!\n",
      "[nltk_data] Downloading package wordnet to\n",
      "[nltk_data]     /Users/zhuliang/nltk_data...\n",
      "[nltk_data]   Package wordnet is already up-to-date!\n",
      "[nltk_data] Downloading package punkt to /Users/zhuliang/nltk_data...\n",
      "[nltk_data]   Package punkt is already up-to-date!\n",
      "[nltk_data] Downloading package omw-1.4 to\n",
      "[nltk_data]     /Users/zhuliang/nltk_data...\n",
      "[nltk_data]   Package omw-1.4 is already up-to-date!\n"
     ]
    },
    {
     "name": "stdout",
     "output_type": "stream",
     "text": [
      "              business_id                                               text  \\\n",
      "0  3uLgwr0qeCNMjKenHJwPGQ                     Avengers time with the ladies.   \n",
      "1  QoezRbYQncpRqyrLH6Iqjg  They have lots of good deserts and tasty cuban...   \n",
      "4  _uN0OudeJ3Zl_tf6nxg5ww             Appetizers.. platter special for lunch   \n",
      "6  kH-0iXqkL7b8UXNpguBMKg  Saturday, Dec 7th 2013, ride Patco's Silver Sl...   \n",
      "7  jtri188kuhe_AuEOJ51U_A  This is probably the best place in the cool Sp...   \n",
      "\n",
      "                                          clean_text  \n",
      "0                                  avenger time lady  \n",
      "1               lot good desert tasty cuban sandwich  \n",
      "4                    appetizer platter special lunch  \n",
      "6  saturday dec th ride patco silver sleigh w san...  \n",
      "7  probably best place cool spring area watch gam...  \n"
     ]
    }
   ],
   "source": [
    "# Environment \n",
    "import nltk\n",
    "import re\n",
    "import string\n",
    "from nltk.corpus import stopwords\n",
    "from nltk.stem import WordNetLemmatizer\n",
    "\n",
    "# Download the required resources\n",
    "nltk.download('stopwords')\n",
    "nltk.download('wordnet')\n",
    "nltk.download('punkt')\n",
    "nltk.download('omw-1.4')\n",
    "\n",
    "# Define a function to preprocess the text\n",
    "def preprocess_text(text):\n",
    "    # Convert to lowercase\n",
    "    text = text.lower()\n",
    "    \n",
    "    # Remove punctuation and digits\n",
    "    text = re.sub(f\"[{string.punctuation}0-9]\", \" \", text)\n",
    "    \n",
    "    # Tokenize words\n",
    "    words = nltk.word_tokenize(text)\n",
    "    \n",
    "    # Remove stopwords\n",
    "    stop_words = set(stopwords.words(\"english\"))\n",
    "    words = [word for word in words if word not in stop_words]\n",
    "    \n",
    "    # Lemmatize words back to the standard form\n",
    "    lemmatizer = WordNetLemmatizer()\n",
    "    words = [lemmatizer.lemmatize(word) for word in words]\n",
    "    \n",
    "    # Rejoin words back to text string\n",
    "    text = \" \".join(words)\n",
    "    return text\n",
    "\n",
    "# Apply the preprocessing function to the 'text' column of the 'review' DataFrame\n",
    "tip[\"clean_text\"] = tip[\"text\"].apply(preprocess_text)\n",
    "\n",
    "# Display the first 5 rows of the updated DataFrame\n",
    "print(tip.head(5))\n"
   ]
  },
  {
   "cell_type": "markdown",
   "id": "3b33c59e",
   "metadata": {},
   "source": [
    "## Sentiment Analysis\n",
    "Collect the positive tip text records"
   ]
  },
  {
   "cell_type": "code",
   "execution_count": 13,
   "id": "6cb711ca",
   "metadata": {},
   "outputs": [],
   "source": [
    "import pandas as pd\n",
    "# read dataset\n",
    "# tip = pd.read_csv('tip_1.csv')\n",
    "tip = tip.astype({'business_id': 'str', 'clean_text': 'str'})"
   ]
  },
  {
   "cell_type": "code",
   "execution_count": 14,
   "id": "e2c8817d",
   "metadata": {},
   "outputs": [
    {
     "data": {
      "text/plain": [
       "(654119, 4)"
      ]
     },
     "execution_count": 14,
     "metadata": {},
     "output_type": "execute_result"
    }
   ],
   "source": [
    "# get the sentiment for each tip text\n",
    "\n",
    "from textblob import TextBlob\n",
    "\n",
    "sentiment = []\n",
    "\n",
    "for index, row in tip.iterrows():\n",
    "    # sentiment analysis\n",
    "    blob = TextBlob(row['clean_text'])\n",
    "    polarities = [s.sentiment.polarity for s in blob.sentences]\n",
    "    if len(polarities) > 0:\n",
    "        polarity = sum(polarities) / len(polarities)\n",
    "    else:\n",
    "        polarity = 0\n",
    "\n",
    "    if polarity > 0:\n",
    "        sentiment.append('positive')\n",
    "    elif polarity < 0:\n",
    "        sentiment.append('negative')\n",
    "    else:\n",
    "        sentiment.append('neutral')\n",
    "\n",
    "# add variable sentiment to dataframe tip\n",
    "tip['sentiment'] = sentiment\n",
    "tip.shape"
   ]
  },
  {
   "cell_type": "code",
   "execution_count": 15,
   "id": "6cb3f311",
   "metadata": {},
   "outputs": [
    {
     "data": {
      "text/plain": [
       "(426077, 4)"
      ]
     },
     "execution_count": 15,
     "metadata": {},
     "output_type": "execute_result"
    }
   ],
   "source": [
    "# get the positive-only tip text\n",
    "tip = tip[tip['sentiment'] == 'positive'].copy()\n",
    "tip.shape"
   ]
  },
  {
   "cell_type": "code",
   "execution_count": 16,
   "id": "abbe4275",
   "metadata": {},
   "outputs": [],
   "source": [
    "# save to tip_text.csv\n",
    "tip.to_csv('tip_text.csv', index=False)"
   ]
  }
 ],
 "metadata": {
  "kernelspec": {
   "display_name": "Python 3 (ipykernel)",
   "language": "python",
   "name": "python3"
  },
  "language_info": {
   "codemirror_mode": {
    "name": "ipython",
    "version": 3
   },
   "file_extension": ".py",
   "mimetype": "text/x-python",
   "name": "python",
   "nbconvert_exporter": "python",
   "pygments_lexer": "ipython3",
   "version": "3.9.12"
  }
 },
 "nbformat": 4,
 "nbformat_minor": 5
}
