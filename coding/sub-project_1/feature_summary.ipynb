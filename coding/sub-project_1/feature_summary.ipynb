{
 "cells": [
  {
   "cell_type": "code",
   "execution_count": 3,
   "id": "a4a36092",
   "metadata": {},
   "outputs": [
    {
     "name": "stdout",
     "output_type": "stream",
     "text": [
      "Loading finished\n"
     ]
    }
   ],
   "source": [
    "# set up environment \n",
    "import os\n",
    "import string\n",
    "import sklearn \n",
    "import time as tm \n",
    "import pandas as pd\n",
    "import ipywidgets as widgets\n",
    "from IPython.display import display\n",
    "\n",
    "from ngrams import * \n",
    "from preprocess_text import * \n",
    "from prediction_summary import *\n",
    "print(\"Loading finished\")\n",
    "%matplotlib inline"
   ]
  },
  {
   "cell_type": "code",
   "execution_count": 4,
   "id": "34815aaf",
   "metadata": {},
   "outputs": [],
   "source": [
    "file_path = '/Users/guochundi/Desktop/SBU/courses/2023 Spring/DCS 561/projects/'\n",
    "os.chdir(file_path)"
   ]
  },
  {
   "cell_type": "code",
   "execution_count": 5,
   "id": "e691b151",
   "metadata": {},
   "outputs": [
    {
     "name": "stdout",
     "output_type": "stream",
     "text": [
      "It takes 10.41 seconds to load reviews data.\n"
     ]
    }
   ],
   "source": [
    "# load data \n",
    "tic = tm.time()\n",
    "reviews = pd.read_csv('datasets/review_1.csv')\n",
    "toc = tm.time()\n",
    "print(\"It takes\", round(toc -tic, 2), \"seconds to load reviews data.\")\n",
    "business = pd.read_csv('datasets/business.csv')"
   ]
  },
  {
   "cell_type": "code",
   "execution_count": 11,
   "id": "f493336c",
   "metadata": {},
   "outputs": [
    {
     "data": {
      "text/plain": [
       "['business_id',\n",
       " 'name',\n",
       " 'address',\n",
       " 'city',\n",
       " 'state',\n",
       " 'postal_code',\n",
       " 'latitude',\n",
       " 'longitude',\n",
       " 'stars',\n",
       " 'review_count',\n",
       " 'is_open',\n",
       " 'attributes',\n",
       " 'categories',\n",
       " 'hours',\n",
       " 'is_mexican',\n",
       " 'is_american',\n",
       " 'is_italian',\n",
       " 'is_chinese',\n",
       " 'is_thai',\n",
       " 'is_japanese',\n",
       " 'is_korean',\n",
       " 'is_vietnamese',\n",
       " 'is_asian',\n",
       " 'is_greek',\n",
       " 'is_french',\n",
       " 'is_cajun',\n",
       " 'is_seafood',\n",
       " 'is_barbeque',\n",
       " 'is_sushi',\n",
       " 'is_brunch',\n",
       " 'is_bars']"
      ]
     },
     "execution_count": 11,
     "metadata": {},
     "output_type": "execute_result"
    }
   ],
   "source": [
    "ctg_lst = ['Mexican', 'American', 'Italian', 'Chinese', 'Thai', 'Japanese', 'Korean', 'Vietnamese', \n",
    "           'Asian', 'Greek', 'French', 'Cajun', 'Seafood', 'Barbeque', 'Sushi', 'Brunch', 'Bars']\n",
    "\n",
    "business = add_ctg_dummy(business, ctg_lst) \n",
    "\n",
    "list(business.columns)"
   ]
  },
  {
   "cell_type": "code",
   "execution_count": 7,
   "id": "5d2f2da2",
   "metadata": {},
   "outputs": [],
   "source": [
    "def on_button_clicked(obj):\n",
    "    with output:\n",
    "        zipcd = int(zipcode.value)\n",
    "        rds = radius.value\n",
    "        ctg = category.value\n",
    "        if figure.value == 'Bar Plot':\n",
    "            wrd_cld = False \n",
    "            pos = True\n",
    "        else:\n",
    "            wrd_cld = True \n",
    "            if figure.value == 'Positive Word Cloud':\n",
    "                pos = True\n",
    "            else:\n",
    "                pos = False\n",
    "        print_summary(business, reviews, zipcd, rds, ctg, wrd_cld , pos)"
   ]
  },
  {
   "cell_type": "code",
   "execution_count": 13,
   "id": "dd1d78c4",
   "metadata": {
    "scrolled": false
   },
   "outputs": [
    {
     "name": "stdout",
     "output_type": "stream",
     "text": [
      " \n",
      " \n"
     ]
    },
    {
     "data": {
      "application/vnd.jupyter.widget-view+json": {
       "model_id": "6b7c5449f1a9437c8691a8e862d74a2f",
       "version_major": 2,
       "version_minor": 0
      },
      "text/plain": [
       "GridspecLayout(children=(Button(description='Restaurant Review Summary Generater', layout=Layout(grid_area='wi…"
      ]
     },
     "metadata": {},
     "output_type": "display_data"
    },
    {
     "data": {
      "application/vnd.jupyter.widget-view+json": {
       "model_id": "08dd288ccac24499bce8bf0b7b81b328",
       "version_major": 2,
       "version_minor": 0
      },
      "text/plain": [
       "Output()"
      ]
     },
     "metadata": {},
     "output_type": "display_data"
    }
   ],
   "source": [
    "radius = widgets.IntSlider(min = 0,\n",
    "    max = 50,\n",
    "    step = 5,\n",
    "    description = 'Radius:', \n",
    "    style = dict(handle_color = 'lightblue'),\n",
    "    disabled = False\n",
    ")\n",
    "\n",
    "figure = widgets.RadioButtons(\n",
    "    options = ['Positive Word Cloud', 'Negative Word Cloud', 'Bar Plot'],\n",
    "    value = 'Positive Word Cloud',\n",
    "    description = 'Display:',\n",
    "    disabled = False\n",
    ")\n",
    "\n",
    "category = widgets.Text(\n",
    "    value = 'Seafood',\n",
    "    placeholder = 'American, Chinese, Italian...',\n",
    "    description = 'Category:',\n",
    "    disabled = False   \n",
    ")\n",
    "\n",
    "zipcode = widgets.Text(\n",
    "    value = \"11790\",\n",
    "    placeholder = 'Give me a 5 digit zipcode.',\n",
    "    description = 'Zipcode:',\n",
    "    disabled = False   \n",
    ")\n",
    "\n",
    "cfrm_btn = widgets.Button(description = 'Search', button_style = 'primary',\n",
    "                          style = dict(font_weight = 'bold'),\n",
    "                         layout = widgets.Layout(height = '50px', width = '180px'))\n",
    "\n",
    "head_btn = widgets.Button(description = 'Restaurant Review Summary Generater', \n",
    "                          style = dict(font_weight = 'bold', button_color = 'white'), \n",
    "                          layout = widgets.Layout(height = '50px', width = '300px'))\n",
    "\n",
    "grids = widgets.GridspecLayout(4, 3, height = '500px', width = '900px')\n",
    "grids[0, 1] = head_btn\n",
    "grids[1, 0] = zipcode\n",
    "grids[1, 2] = radius\n",
    "grids[2, 0] = category\n",
    "grids[2, 2] = figure\n",
    "grids[3, 1] = cfrm_btn\n",
    "output = widgets.Output()\n",
    "print(' ')\n",
    "print(' ')\n",
    "display(grids, output)\n",
    "cfrm_btn.on_click(on_button_clicked)"
   ]
  },
  {
   "cell_type": "code",
   "execution_count": null,
   "id": "76993aa7",
   "metadata": {},
   "outputs": [],
   "source": []
  },
  {
   "cell_type": "code",
   "execution_count": null,
   "id": "a6a8d117",
   "metadata": {},
   "outputs": [],
   "source": []
  }
 ],
 "metadata": {
  "kernelspec": {
   "display_name": "Python 3 (ipykernel)",
   "language": "python",
   "name": "python3"
  },
  "language_info": {
   "codemirror_mode": {
    "name": "ipython",
    "version": 3
   },
   "file_extension": ".py",
   "mimetype": "text/x-python",
   "name": "python",
   "nbconvert_exporter": "python",
   "pygments_lexer": "ipython3",
   "version": "3.9.12"
  }
 },
 "nbformat": 4,
 "nbformat_minor": 5
}
